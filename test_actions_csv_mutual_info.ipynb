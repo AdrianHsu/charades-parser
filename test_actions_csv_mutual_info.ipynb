{
 "cells": [
  {
   "cell_type": "code",
   "execution_count": 1,
   "metadata": {},
   "outputs": [],
   "source": [
    "import os\n",
    "import pandas as pd\n",
    "import numpy as np\n",
    "import sklearn\n",
    "import csv"
   ]
  },
  {
   "cell_type": "code",
   "execution_count": 2,
   "metadata": {},
   "outputs": [],
   "source": [
    "df = pd.read_csv('Charades_v1_test.csv')\n",
    "# df.head()"
   ]
  },
  {
   "cell_type": "code",
   "execution_count": 3,
   "metadata": {},
   "outputs": [
    {
     "name": "stdout",
     "output_type": "stream",
     "text": [
      "(1863, 11)\n",
      "(1814, 11)\n"
     ]
    }
   ],
   "source": [
    "print(df.shape)\n",
    "df = df[pd.notnull(df['actions'])] # drop NA in column['actions']\n",
    "print(df.shape)\n",
    "\n",
    "# df = df[df.quality >=6 ]\n",
    "# df = df[df.relevance == 7] #  和 script 的相關性，但我們不需要管 script ，所以用不到\n",
    "df['origin_index'] = df.index.values\n",
    "# df.head()"
   ]
  },
  {
   "cell_type": "code",
   "execution_count": 4,
   "metadata": {},
   "outputs": [],
   "source": [
    "df = df.reset_index(drop=True)\n",
    "# df.head()"
   ]
  },
  {
   "cell_type": "code",
   "execution_count": 5,
   "metadata": {},
   "outputs": [],
   "source": [
    "result_class = ['c060',\n",
    " 'c103',\n",
    " 'c111',\n",
    " 'c121',\n",
    " 'c142',\n",
    " 'c143',\n",
    " 'c133',\n",
    " 'c134',\n",
    " 'c046',\n",
    " 'c049',\n",
    " 'c065',\n",
    " 'c069',\n",
    " 'c015',\n",
    " 'c019']"
   ]
  },
  {
   "cell_type": "code",
   "execution_count": 6,
   "metadata": {},
   "outputs": [],
   "source": [
    "video_fps = open('video_fps.txt', 'r')\n",
    "mydict = {}\n",
    "for line in video_fps.readlines():\n",
    "#     print(line)\n",
    "    split = line.split(' ')\n",
    "    mydict[split[0]] = float(split[1])"
   ]
  },
  {
   "cell_type": "code",
   "execution_count": 8,
   "metadata": {},
   "outputs": [],
   "source": [
    "df2 = df\n",
    "\n",
    "result = []\n",
    "for (idx, row) in df2.iterrows():\n",
    "    act = row['actions']\n",
    "    if True:\n",
    "\n",
    "        myid = row['id']\n",
    "        fps = mydict[myid]\n",
    "        split = act.split(';')\n",
    "        for myaction in split: #c092 11.90 21.20\n",
    "            c = myaction.split(' ')\n",
    "            if c[0] in result_class:\n",
    "#                 print(myaction + \" \" + myid + \" \" + fps)\n",
    "                arr = []\n",
    "                arr.append(myid)\n",
    "                x = myaction.split(' ')\n",
    "                x1 = float(x[1]) * fps\n",
    "                x2 = (float(x[2]) - 1) * fps\n",
    "                arr.append(x[0])\n",
    "                arr.append(round(x1))\n",
    "                arr.append(round(x2))\n",
    "                arr.append(fps)\n",
    "                arr.append(myaction)\n",
    "                result.append(arr)\n",
    "    else:\n",
    "        df2 = df2.drop(idx)\n",
    "       "
   ]
  },
  {
   "cell_type": "code",
   "execution_count": 9,
   "metadata": {},
   "outputs": [],
   "source": [
    "sor = sorted(result)\n",
    "npsor = np.array(sor)\n",
    "# npsor"
   ]
  },
  {
   "cell_type": "code",
   "execution_count": 10,
   "metadata": {},
   "outputs": [],
   "source": [
    "np.savetxt('test.csv', npsor, delimiter=',', fmt='%s')"
   ]
  },
  {
   "cell_type": "code",
   "execution_count": null,
   "metadata": {},
   "outputs": [],
   "source": []
  }
 ],
 "metadata": {
  "kernelspec": {
   "display_name": "Python 3",
   "language": "python",
   "name": "python3"
  },
  "language_info": {
   "codemirror_mode": {
    "name": "ipython",
    "version": 3
   },
   "file_extension": ".py",
   "mimetype": "text/x-python",
   "name": "python",
   "nbconvert_exporter": "python",
   "pygments_lexer": "ipython3",
   "version": "3.6.0"
  }
 },
 "nbformat": 4,
 "nbformat_minor": 2
}
