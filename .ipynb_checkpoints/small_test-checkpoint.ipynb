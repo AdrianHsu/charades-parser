{
 "cells": [
  {
   "cell_type": "code",
   "execution_count": 1,
   "metadata": {},
   "outputs": [],
   "source": [
    "import os"
   ]
  },
  {
   "cell_type": "code",
   "execution_count": 8,
   "metadata": {},
   "outputs": [
    {
     "name": "stdout",
     "output_type": "stream",
     "text": [
      "2\n",
      "89\n",
      "2\n",
      "109\n",
      "56\n"
     ]
    }
   ],
   "source": [
    "result_test_csv = open('small_test.csv', 'w', encoding='UTF-8')\n",
    "\n",
    "# target = \"c102\" # c021, c065, c102\n",
    "writecsv(\"c021\")\n",
    "writecsv(\"c065\")\n",
    "writecsv(\"c102\")\n",
    "\n",
    "result_test_csv.close()"
   ]
  },
  {
   "cell_type": "code",
   "execution_count": 9,
   "metadata": {},
   "outputs": [
    {
     "ename": "SyntaxError",
     "evalue": "Missing parentheses in call to 'print' (<ipython-input-9-26eb0f1bc353>, line 16)",
     "output_type": "error",
     "traceback": [
      "\u001b[0;36m  File \u001b[0;32m\"<ipython-input-9-26eb0f1bc353>\"\u001b[0;36m, line \u001b[0;32m16\u001b[0m\n\u001b[0;31m    print line\u001b[0m\n\u001b[0m             ^\u001b[0m\n\u001b[0;31mSyntaxError\u001b[0m\u001b[0;31m:\u001b[0m Missing parentheses in call to 'print'\n"
     ]
    }
   ],
   "source": [
    "def writecsv(target):\n",
    "    test_csv = open('Charades_vu17_validation.csv', 'r', encoding='UTF-8')\n",
    "    count = 0\n",
    "    for line in test_csv.readlines():\n",
    "        if target in line:\n",
    "\n",
    "    #         https://stackoverflow.com/questions/8899905/count-number-of-occurrences-of-a-given-substring-in-a-string\n",
    "            a = line.count(target)\n",
    "            # if shows up more then 1 times\n",
    "            if(a > 1):\n",
    "                print(a)\n",
    "                continue\n",
    "            \n",
    "            tmp = \",\" + target\n",
    "            if tmp in line:\n",
    "                print(line)\n",
    "            result_test_csv.write(line)\n",
    "            count += 1\n",
    "    print(count)\n",
    "    test_csv.close()"
   ]
  },
  {
   "cell_type": "code",
   "execution_count": null,
   "metadata": {},
   "outputs": [],
   "source": []
  }
 ],
 "metadata": {
  "kernelspec": {
   "display_name": "Python 3",
   "language": "python",
   "name": "python3"
  },
  "language_info": {
   "codemirror_mode": {
    "name": "ipython",
    "version": 3
   },
   "file_extension": ".py",
   "mimetype": "text/x-python",
   "name": "python",
   "nbconvert_exporter": "python",
   "pygments_lexer": "ipython3",
   "version": "3.6.0"
  }
 },
 "nbformat": 4,
 "nbformat_minor": 2
}
