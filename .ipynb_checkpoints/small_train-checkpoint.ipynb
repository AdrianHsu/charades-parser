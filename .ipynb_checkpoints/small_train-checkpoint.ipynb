{
 "cells": [
  {
   "cell_type": "code",
   "execution_count": null,
   "metadata": {},
   "outputs": [],
   "source": [
    "import os"
   ]
  },
  {
   "cell_type": "code",
   "execution_count": 25,
   "metadata": {},
   "outputs": [
    {
     "name": "stdout",
     "output_type": "stream",
     "text": [
      "2\n",
      "2\n",
      "2\n",
      "2\n",
      "2\n",
      "346\n",
      "0\n",
      "0\n"
     ]
    }
   ],
   "source": [
    "result_train_csv = open('small_train.csv', 'w', encoding='UTF-8')\n",
    "\n",
    "# target = \"c102\" # c021, c065, c102\n",
    "writecsv(\"c021\")\n",
    "writecsv(\"c065\")\n",
    "writecsv(\"c102\")"
   ]
  },
  {
   "cell_type": "code",
   "execution_count": 24,
   "metadata": {},
   "outputs": [],
   "source": [
    "def writecsv(target):\n",
    "    train_csv = open('Charades_vu17_train.csv', 'r', encoding='UTF-8')\n",
    "    count = 0\n",
    "    for line in train_csv.readlines():\n",
    "        if target in line:\n",
    "\n",
    "    #         https://stackoverflow.com/questions/8899905/count-number-of-occurrences-of-a-given-substring-in-a-string\n",
    "            a = line.count(target)\n",
    "            # if shows up more then 1 times\n",
    "            if(a > 1):\n",
    "                print(a)\n",
    "                continue\n",
    "\n",
    "            result_train_csv.write(line)\n",
    "            count += 1\n",
    "    print(count)"
   ]
  },
  {
   "cell_type": "code",
   "execution_count": null,
   "metadata": {},
   "outputs": [],
   "source": []
  }
 ],
 "metadata": {
  "kernelspec": {
   "display_name": "Python 3",
   "language": "python",
   "name": "python3"
  },
  "language_info": {
   "codemirror_mode": {
    "name": "ipython",
    "version": 3
   },
   "file_extension": ".py",
   "mimetype": "text/x-python",
   "name": "python",
   "nbconvert_exporter": "python",
   "pygments_lexer": "ipython3",
   "version": "3.6.0"
  }
 },
 "nbformat": 4,
 "nbformat_minor": 2
}
