{
 "cells": [
  {
   "cell_type": "code",
   "execution_count": null,
   "metadata": {},
   "outputs": [],
   "source": [
    "import os"
   ]
  },
  {
   "cell_type": "code",
   "execution_count": 37,
   "metadata": {},
   "outputs": [
    {
     "name": "stdout",
     "output_type": "stream",
     "text": [
      "2\n",
      "2\n",
      "2\n",
      "2\n",
      "2\n",
      "2\n",
      "2\n",
      "2\n",
      "2\n",
      "2\n",
      "2\n",
      "3\n",
      "719\n"
     ]
    }
   ],
   "source": [
    "train_csv = open('Charades_vu17_train.csv', 'r', encoding='UTF-8')\n",
    "result_train_csv = open('small_train.csv', 'w', encoding='UTF-8')\n",
    "\n",
    "# target = \"c102\" # c021, c065, c102\n",
    "target = [\"c021\", \"c065\", \"c102\"]\n",
    "writecsv(target)\n",
    "train_csv.close()\n",
    "result_train_csv.close()"
   ]
  },
  {
   "cell_type": "code",
   "execution_count": 36,
   "metadata": {},
   "outputs": [],
   "source": [
    "def writecsv(targets):\n",
    "    count = 0\n",
    "    for line in train_csv.readlines():\n",
    "        do_write = False\n",
    "        for target in targets:\n",
    "            if target in line:\n",
    "\n",
    "        #         https://stackoverflow.com/questions/8899905/count-number-of-occurrences-of-a-given-substring-in-a-string\n",
    "                a = line.count(target)\n",
    "                # if shows up more then 1 times\n",
    "                if(a > 1):\n",
    "                    print(a)\n",
    "                    do_write = False\n",
    "                    break\n",
    "\n",
    "                tmp = \",\" + target\n",
    "                if tmp in line: # to prevent those being the 1st action\n",
    "    #                 print(line)\n",
    "                    do_write = False\n",
    "                    break\n",
    "                do_write = True\n",
    "            \n",
    "        if do_write == True:\n",
    "            result_train_csv.write(line)\n",
    "            count += 1\n",
    "                \n",
    "    print(count)\n"
   ]
  },
  {
   "cell_type": "code",
   "execution_count": null,
   "metadata": {},
   "outputs": [],
   "source": []
  }
 ],
 "metadata": {
  "kernelspec": {
   "display_name": "Python 3",
   "language": "python",
   "name": "python3"
  },
  "language_info": {
   "codemirror_mode": {
    "name": "ipython",
    "version": 3
   },
   "file_extension": ".py",
   "mimetype": "text/x-python",
   "name": "python",
   "nbconvert_exporter": "python",
   "pygments_lexer": "ipython3",
   "version": "3.6.0"
  }
 },
 "nbformat": 4,
 "nbformat_minor": 2
}
